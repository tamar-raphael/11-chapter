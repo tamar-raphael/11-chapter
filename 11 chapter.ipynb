{
 "cells": [
  {
   "cell_type": "code",
   "execution_count": 7,
   "id": "11013f1b",
   "metadata": {},
   "outputs": [
    {
     "name": "stdout",
     "output_type": "stream",
     "text": [
      "red sweet\n",
      "YELLOW SOUR\n"
     ]
    }
   ],
   "source": [
    "class Apple:\n",
    "    color = \"\"\n",
    "    flavor = \"\"\n",
    "    \n",
    "jonagold = Apple()\n",
    "jonagold.color = \"red\"\n",
    "jonagold.flavor = \"sweet\"\n",
    "print(jonagold.color , jonagold.flavor)\n",
    "\n",
    "jonagold.color = \"yellow\"\n",
    "jonagold.flavor = \"sour\"\n",
    "print(jonagold.color.upper(), jonagold.flavor.upper())"
   ]
  },
  {
   "cell_type": "code",
   "execution_count": 9,
   "id": "4a2e82d7",
   "metadata": {},
   "outputs": [
    {
     "name": "stdout",
     "output_type": "stream",
     "text": [
      "roses are red,\n",
      "violets are blue,\n",
      "sugar is sweet, and so are you\n"
     ]
    }
   ],
   "source": [
    "class flower:\n",
    "    color = \"\"\n",
    "rose = flower()\n",
    "rose.color = \"red\"\n",
    "\n",
    "violet = flower()\n",
    "violet.color = \"blue\"\n",
    "\n",
    "line = \"sugar is sweet, and so are you\"\n",
    "\n",
    "print(\"roses are {},\".format(rose.color))\n",
    "print(\"violets are {},\".format(violet.color))\n",
    "print(line)"
   ]
  },
  {
   "cell_type": "code",
   "execution_count": 13,
   "id": "5ce1a595",
   "metadata": {
    "scrolled": true
   },
   "outputs": [
    {
     "name": "stdout",
     "output_type": "stream",
     "text": [
      "meow! i'm luna! Meow\n"
     ]
    },
    {
     "data": {
      "text/plain": [
       "24"
      ]
     },
     "execution_count": 13,
     "metadata": {},
     "output_type": "execute_result"
    }
   ],
   "source": [
    "class cat:\n",
    "    name = \"\"\n",
    "    years = 0\n",
    "    def speak (self):\n",
    "        print(\"meow! i'm {}! Meow\".format(self.name))\n",
    "    def age(self):\n",
    "        return self.years *12\n",
    "\n",
    "myluna = cat()\n",
    "myluna.name = \"luna\"\n",
    "myluna.speak()\n",
    "\n",
    "myage = cat()\n",
    "myage.years = 2\n",
    "myage.age()"
   ]
  },
  {
   "cell_type": "code",
   "execution_count": 21,
   "id": "03d11645",
   "metadata": {},
   "outputs": [
    {
     "name": "stdout",
     "output_type": "stream",
     "text": [
      "this apple is red and its flavor is sweet\n"
     ]
    }
   ],
   "source": [
    "class Apple:\n",
    "    def __init__(self, color, flavor):\n",
    "        self.color = color\n",
    "        self.flavor = flavor\n",
    "    def __str__(self):\n",
    "        return \"this apple is {} and its flavor is {}\".format(self.color, self.flavor)\n",
    "        \n",
    "        \n",
    "jonagold = Apple(\"red\", \"sweet\")\n",
    "print(jonagold)"
   ]
  },
  {
   "cell_type": "code",
   "execution_count": 22,
   "id": "db3bdab8",
   "metadata": {},
   "outputs": [
    {
     "name": "stdout",
     "output_type": "stream",
     "text": [
      "Help on class Apple in module __main__:\n",
      "\n",
      "class Apple(builtins.object)\n",
      " |  Apple(color, flavor)\n",
      " |  \n",
      " |  Methods defined here:\n",
      " |  \n",
      " |  __init__(self, color, flavor)\n",
      " |      Initialize self.  See help(type(self)) for accurate signature.\n",
      " |  \n",
      " |  __str__(self)\n",
      " |      Return str(self).\n",
      " |  \n",
      " |  ----------------------------------------------------------------------\n",
      " |  Data descriptors defined here:\n",
      " |  \n",
      " |  __dict__\n",
      " |      dictionary for instance variables (if defined)\n",
      " |  \n",
      " |  __weakref__\n",
      " |      list of weak references to the object (if defined)\n",
      "\n"
     ]
    }
   ],
   "source": [
    "class Apple:\n",
    "    def __init__(self, color, flavor):\n",
    "        self.color = color\n",
    "        self.flavor = flavor\n",
    "    def __str__(self):\n",
    "        return \"this apple is {} and its flavor is {}\".format(self.color, self.flavor)\n",
    "\n",
    "help(Apple)"
   ]
  },
  {
   "cell_type": "code",
   "execution_count": 23,
   "id": "e1e4f3cf",
   "metadata": {},
   "outputs": [
    {
     "name": "stdout",
     "output_type": "stream",
     "text": [
      "Help on class person in module __main__:\n",
      "\n",
      "class person(builtins.object)\n",
      " |  person(name)\n",
      " |  \n",
      " |  Methods defined here:\n",
      " |  \n",
      " |  __init__(self, name)\n",
      " |      Initialize self.  See help(type(self)) for accurate signature.\n",
      " |  \n",
      " |  greeting(self)\n",
      " |      output a message with the name of the person\n",
      " |  \n",
      " |  ----------------------------------------------------------------------\n",
      " |  Data descriptors defined here:\n",
      " |  \n",
      " |  __dict__\n",
      " |      dictionary for instance variables (if defined)\n",
      " |  \n",
      " |  __weakref__\n",
      " |      list of weak references to the object (if defined)\n",
      "\n"
     ]
    }
   ],
   "source": [
    "class person:\n",
    "    def __init__(self,name):\n",
    "        self.name = name\n",
    "    def greeting(self):\n",
    "        \"\"\"output a message with the name of the person\"\"\"\n",
    "        \n",
    "        print(\"hello! my name is {}\".format(name=self.name))\n",
    "help(person)"
   ]
  },
  {
   "cell_type": "code",
   "execution_count": 24,
   "id": "3eeb4792",
   "metadata": {},
   "outputs": [
    {
     "name": "stdout",
     "output_type": "stream",
     "text": [
      "green\n",
      "sweet\n"
     ]
    }
   ],
   "source": [
    "class fruit:\n",
    "    def __init__(self,color,flavor):\n",
    "        self.color = color\n",
    "        self.flavor = flavor\n",
    "        \n",
    "class apple(fruit):\n",
    "    pass\n",
    "\n",
    "class grape(fruit):\n",
    "    pass\n",
    "\n",
    "one = fruit(\"green\", \"tart\")\n",
    "two = grape(\"red\", \"sweet\")\n",
    "print(one.color)\n",
    "print(two.flavor)"
   ]
  },
  {
   "cell_type": "code",
   "execution_count": 30,
   "id": "ffc1751e",
   "metadata": {},
   "outputs": [
    {
     "name": "stdout",
     "output_type": "stream",
     "text": [
      "meow! i'm luna! meow\n",
      "mooooo! i'm milky! mooooo\n"
     ]
    }
   ],
   "source": [
    "class animal:\n",
    "    sound = \"\"\n",
    "    def __init__(self, name):\n",
    "        self.name = name\n",
    "    def speak(self):\n",
    "        print(\"{sound}! i'm {name}! {sound}\".format(name=self.name,sound=self.sound))\n",
    "\n",
    "class cat(animal):\n",
    "    sound=\"meow\"\n",
    "\n",
    "myluna = cat(\"luna\")\n",
    "myluna.speak()\n",
    "\n",
    "class cow(animal):\n",
    "    sound=\"mooooo\"\n",
    "\n",
    "mycow = cow(\"milky\")\n",
    "mycow.speak()"
   ]
  },
  {
   "cell_type": "code",
   "execution_count": 32,
   "id": "8523e415",
   "metadata": {},
   "outputs": [
    {
     "name": "stdout",
     "output_type": "stream",
     "text": [
      "this polo is made of cotton\n"
     ]
    }
   ],
   "source": [
    "class clothing:\n",
    "    material = \"\"\n",
    "    def __init__(self,name):\n",
    "        self.name = name\n",
    "    def checkmaterial(self):\n",
    "        print(\"this {} is made of {}\".format(self.name, self.material))\n",
    "\n",
    "class shirt(clothing):\n",
    "    material=\"cotton\"\n",
    "    \n",
    "polo = shirt(\"polo\")\n",
    "polo.checkmaterial()"
   ]
  },
  {
   "cell_type": "code",
   "execution_count": 33,
   "id": "e9426a37",
   "metadata": {},
   "outputs": [],
   "source": [
    "class repository:\n",
    "    def __init__(self):\n",
    "        self.packages = {}\n",
    "    def add_package(self,package):\n",
    "        self.package[package.name]=package\n",
    "    def total_size(self):\n",
    "        result = 0\n",
    "        for package in self.packages.values():\n",
    "            result+=packagesize\n",
    "        return result"
   ]
  },
  {
   "cell_type": "code",
   "execution_count": 34,
   "id": "eb8c6730",
   "metadata": {},
   "outputs": [
    {
     "data": {
      "text/plain": [
       "2"
      ]
     },
     "execution_count": 34,
     "metadata": {},
     "output_type": "execute_result"
    }
   ],
   "source": [
    "import random\n",
    "random.randint(1,10)"
   ]
  },
  {
   "cell_type": "code",
   "execution_count": 35,
   "id": "b20d6341",
   "metadata": {},
   "outputs": [
    {
     "data": {
      "text/plain": [
       "10"
      ]
     },
     "execution_count": 35,
     "metadata": {},
     "output_type": "execute_result"
    }
   ],
   "source": [
    "random.randint(1,10)"
   ]
  },
  {
   "cell_type": "code",
   "execution_count": 36,
   "id": "b5dc9519",
   "metadata": {},
   "outputs": [
    {
     "data": {
      "text/plain": [
       "3"
      ]
     },
     "execution_count": 36,
     "metadata": {},
     "output_type": "execute_result"
    }
   ],
   "source": [
    "random.randint(1,10)"
   ]
  },
  {
   "cell_type": "code",
   "execution_count": 40,
   "id": "33bf284b",
   "metadata": {},
   "outputs": [
    {
     "name": "stdout",
     "output_type": "stream",
     "text": [
      "2023-09-27 19:01:22.149361\n"
     ]
    }
   ],
   "source": [
    "import datetime\n",
    "now = datetime.datetime.now()\n",
    "type(now)\n",
    "print(now)"
   ]
  },
  {
   "cell_type": "code",
   "execution_count": 41,
   "id": "41afba2c",
   "metadata": {},
   "outputs": [
    {
     "data": {
      "text/plain": [
       "2023"
      ]
     },
     "execution_count": 41,
     "metadata": {},
     "output_type": "execute_result"
    }
   ],
   "source": [
    "now.year"
   ]
  },
  {
   "cell_type": "code",
   "execution_count": 42,
   "id": "d5ac03f6",
   "metadata": {},
   "outputs": [
    {
     "name": "stdout",
     "output_type": "stream",
     "text": [
      "2023-10-25 19:01:22.149361\n"
     ]
    }
   ],
   "source": [
    "print(now + datetime.timedelta(days=28))"
   ]
  },
  {
   "cell_type": "code",
   "execution_count": null,
   "id": "3e8dc31c",
   "metadata": {},
   "outputs": [],
   "source": []
  }
 ],
 "metadata": {
  "kernelspec": {
   "display_name": "Python 3 (ipykernel)",
   "language": "python",
   "name": "python3"
  },
  "language_info": {
   "codemirror_mode": {
    "name": "ipython",
    "version": 3
   },
   "file_extension": ".py",
   "mimetype": "text/x-python",
   "name": "python",
   "nbconvert_exporter": "python",
   "pygments_lexer": "ipython3",
   "version": "3.11.4"
  }
 },
 "nbformat": 4,
 "nbformat_minor": 5
}
